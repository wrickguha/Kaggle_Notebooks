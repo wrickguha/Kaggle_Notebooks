{
 "cells": [
  {
   "cell_type": "code",
   "execution_count": 1,
   "id": "fa01184f",
   "metadata": {
    "_cell_guid": "b1076dfc-b9ad-4769-8c92-a6c4dae69d19",
    "_uuid": "8f2839f25d086af736a60e9eeb907d3b93b6e0e5",
    "execution": {
     "iopub.execute_input": "2025-06-21T09:57:29.522126Z",
     "iopub.status.busy": "2025-06-21T09:57:29.521776Z",
     "iopub.status.idle": "2025-06-21T09:57:33.401834Z",
     "shell.execute_reply": "2025-06-21T09:57:33.400937Z"
    },
    "papermill": {
     "duration": 3.888196,
     "end_time": "2025-06-21T09:57:33.403521",
     "exception": false,
     "start_time": "2025-06-21T09:57:29.515325",
     "status": "completed"
    },
    "tags": []
   },
   "outputs": [
    {
     "name": "stdout",
     "output_type": "stream",
     "text": [
      "/kaggle/input/spaceship-titanic/sample_submission.csv\n",
      "/kaggle/input/spaceship-titanic/train.csv\n",
      "/kaggle/input/spaceship-titanic/test.csv\n"
     ]
    }
   ],
   "source": [
    "# This Python 3 environment comes with many helpful analytics libraries installed\n",
    "# It is defined by the kaggle/python Docker image: https://github.com/kaggle/docker-python\n",
    "# For example, here's several helpful packages to load\n",
    "\n",
    "import numpy as np # linear algebra\n",
    "import pandas as pd # data processing, CSV file I/O (e.g. pd.read_csv)\n",
    "import seaborn as sns\n",
    "\n",
    "# Input data files are available in the read-only \"../input/\" directory\n",
    "# For example, running this (by clicking run or pressing Shift+Enter) will list all files under the input directory\n",
    "\n",
    "import os\n",
    "for dirname, _, filenames in os.walk('/kaggle/input'):\n",
    "    for filename in filenames:\n",
    "        print(os.path.join(dirname, filename))\n",
    "\n",
    "# You can write up to 20GB to the current directory (/kaggle/working/) that gets preserved as output when you create a version using \"Save & Run All\" \n",
    "# You can also write temporary files to /kaggle/temp/, but they won't be saved outside of the current session"
   ]
  },
  {
   "cell_type": "code",
   "execution_count": 2,
   "id": "daa4d1d9",
   "metadata": {
    "execution": {
     "iopub.execute_input": "2025-06-21T09:57:33.414905Z",
     "iopub.status.busy": "2025-06-21T09:57:33.414368Z",
     "iopub.status.idle": "2025-06-21T09:57:33.419324Z",
     "shell.execute_reply": "2025-06-21T09:57:33.418493Z"
    },
    "papermill": {
     "duration": 0.012317,
     "end_time": "2025-06-21T09:57:33.420866",
     "exception": false,
     "start_time": "2025-06-21T09:57:33.408549",
     "status": "completed"
    },
    "tags": []
   },
   "outputs": [],
   "source": [
    "import pandas as pd\n",
    "import numpy as np\n",
    "import matplotlib.pyplot as plt\n"
   ]
  },
  {
   "cell_type": "code",
   "execution_count": 3,
   "id": "d81ef5b2",
   "metadata": {
    "execution": {
     "iopub.execute_input": "2025-06-21T09:57:33.434880Z",
     "iopub.status.busy": "2025-06-21T09:57:33.434493Z",
     "iopub.status.idle": "2025-06-21T09:57:33.500811Z",
     "shell.execute_reply": "2025-06-21T09:57:33.499867Z"
    },
    "papermill": {
     "duration": 0.076061,
     "end_time": "2025-06-21T09:57:33.502832",
     "exception": false,
     "start_time": "2025-06-21T09:57:33.426771",
     "status": "completed"
    },
    "tags": []
   },
   "outputs": [],
   "source": [
    "df_train = pd.read_csv(\"/kaggle/input/spaceship-titanic/train.csv\")"
   ]
  },
  {
   "cell_type": "code",
   "execution_count": 4,
   "id": "95c6a517",
   "metadata": {
    "execution": {
     "iopub.execute_input": "2025-06-21T09:57:33.519832Z",
     "iopub.status.busy": "2025-06-21T09:57:33.519420Z",
     "iopub.status.idle": "2025-06-21T09:57:33.554068Z",
     "shell.execute_reply": "2025-06-21T09:57:33.553126Z"
    },
    "papermill": {
     "duration": 0.045155,
     "end_time": "2025-06-21T09:57:33.555860",
     "exception": false,
     "start_time": "2025-06-21T09:57:33.510705",
     "status": "completed"
    },
    "tags": []
   },
   "outputs": [
    {
     "data": {
      "text/html": [
       "<div>\n",
       "<style scoped>\n",
       "    .dataframe tbody tr th:only-of-type {\n",
       "        vertical-align: middle;\n",
       "    }\n",
       "\n",
       "    .dataframe tbody tr th {\n",
       "        vertical-align: top;\n",
       "    }\n",
       "\n",
       "    .dataframe thead th {\n",
       "        text-align: right;\n",
       "    }\n",
       "</style>\n",
       "<table border=\"1\" class=\"dataframe\">\n",
       "  <thead>\n",
       "    <tr style=\"text-align: right;\">\n",
       "      <th></th>\n",
       "      <th>PassengerId</th>\n",
       "      <th>HomePlanet</th>\n",
       "      <th>CryoSleep</th>\n",
       "      <th>Cabin</th>\n",
       "      <th>Destination</th>\n",
       "      <th>Age</th>\n",
       "      <th>VIP</th>\n",
       "      <th>RoomService</th>\n",
       "      <th>FoodCourt</th>\n",
       "      <th>ShoppingMall</th>\n",
       "      <th>Spa</th>\n",
       "      <th>VRDeck</th>\n",
       "      <th>Name</th>\n",
       "      <th>Transported</th>\n",
       "    </tr>\n",
       "  </thead>\n",
       "  <tbody>\n",
       "    <tr>\n",
       "      <th>0</th>\n",
       "      <td>0001_01</td>\n",
       "      <td>Europa</td>\n",
       "      <td>False</td>\n",
       "      <td>B/0/P</td>\n",
       "      <td>TRAPPIST-1e</td>\n",
       "      <td>39.0</td>\n",
       "      <td>False</td>\n",
       "      <td>0.0</td>\n",
       "      <td>0.0</td>\n",
       "      <td>0.0</td>\n",
       "      <td>0.0</td>\n",
       "      <td>0.0</td>\n",
       "      <td>Maham Ofracculy</td>\n",
       "      <td>False</td>\n",
       "    </tr>\n",
       "    <tr>\n",
       "      <th>1</th>\n",
       "      <td>0002_01</td>\n",
       "      <td>Earth</td>\n",
       "      <td>False</td>\n",
       "      <td>F/0/S</td>\n",
       "      <td>TRAPPIST-1e</td>\n",
       "      <td>24.0</td>\n",
       "      <td>False</td>\n",
       "      <td>109.0</td>\n",
       "      <td>9.0</td>\n",
       "      <td>25.0</td>\n",
       "      <td>549.0</td>\n",
       "      <td>44.0</td>\n",
       "      <td>Juanna Vines</td>\n",
       "      <td>True</td>\n",
       "    </tr>\n",
       "    <tr>\n",
       "      <th>2</th>\n",
       "      <td>0003_01</td>\n",
       "      <td>Europa</td>\n",
       "      <td>False</td>\n",
       "      <td>A/0/S</td>\n",
       "      <td>TRAPPIST-1e</td>\n",
       "      <td>58.0</td>\n",
       "      <td>True</td>\n",
       "      <td>43.0</td>\n",
       "      <td>3576.0</td>\n",
       "      <td>0.0</td>\n",
       "      <td>6715.0</td>\n",
       "      <td>49.0</td>\n",
       "      <td>Altark Susent</td>\n",
       "      <td>False</td>\n",
       "    </tr>\n",
       "    <tr>\n",
       "      <th>3</th>\n",
       "      <td>0003_02</td>\n",
       "      <td>Europa</td>\n",
       "      <td>False</td>\n",
       "      <td>A/0/S</td>\n",
       "      <td>TRAPPIST-1e</td>\n",
       "      <td>33.0</td>\n",
       "      <td>False</td>\n",
       "      <td>0.0</td>\n",
       "      <td>1283.0</td>\n",
       "      <td>371.0</td>\n",
       "      <td>3329.0</td>\n",
       "      <td>193.0</td>\n",
       "      <td>Solam Susent</td>\n",
       "      <td>False</td>\n",
       "    </tr>\n",
       "    <tr>\n",
       "      <th>4</th>\n",
       "      <td>0004_01</td>\n",
       "      <td>Earth</td>\n",
       "      <td>False</td>\n",
       "      <td>F/1/S</td>\n",
       "      <td>TRAPPIST-1e</td>\n",
       "      <td>16.0</td>\n",
       "      <td>False</td>\n",
       "      <td>303.0</td>\n",
       "      <td>70.0</td>\n",
       "      <td>151.0</td>\n",
       "      <td>565.0</td>\n",
       "      <td>2.0</td>\n",
       "      <td>Willy Santantines</td>\n",
       "      <td>True</td>\n",
       "    </tr>\n",
       "  </tbody>\n",
       "</table>\n",
       "</div>"
      ],
      "text/plain": [
       "  PassengerId HomePlanet CryoSleep  Cabin  Destination   Age    VIP  \\\n",
       "0     0001_01     Europa     False  B/0/P  TRAPPIST-1e  39.0  False   \n",
       "1     0002_01      Earth     False  F/0/S  TRAPPIST-1e  24.0  False   \n",
       "2     0003_01     Europa     False  A/0/S  TRAPPIST-1e  58.0   True   \n",
       "3     0003_02     Europa     False  A/0/S  TRAPPIST-1e  33.0  False   \n",
       "4     0004_01      Earth     False  F/1/S  TRAPPIST-1e  16.0  False   \n",
       "\n",
       "   RoomService  FoodCourt  ShoppingMall     Spa  VRDeck               Name  \\\n",
       "0          0.0        0.0           0.0     0.0     0.0    Maham Ofracculy   \n",
       "1        109.0        9.0          25.0   549.0    44.0       Juanna Vines   \n",
       "2         43.0     3576.0           0.0  6715.0    49.0      Altark Susent   \n",
       "3          0.0     1283.0         371.0  3329.0   193.0       Solam Susent   \n",
       "4        303.0       70.0         151.0   565.0     2.0  Willy Santantines   \n",
       "\n",
       "   Transported  \n",
       "0        False  \n",
       "1         True  \n",
       "2        False  \n",
       "3        False  \n",
       "4         True  "
      ]
     },
     "execution_count": 4,
     "metadata": {},
     "output_type": "execute_result"
    }
   ],
   "source": [
    "df_train.head()"
   ]
  },
  {
   "cell_type": "code",
   "execution_count": 5,
   "id": "b9c54ad6",
   "metadata": {
    "execution": {
     "iopub.execute_input": "2025-06-21T09:57:33.571273Z",
     "iopub.status.busy": "2025-06-21T09:57:33.570406Z",
     "iopub.status.idle": "2025-06-21T09:57:33.578712Z",
     "shell.execute_reply": "2025-06-21T09:57:33.577868Z"
    },
    "papermill": {
     "duration": 0.018745,
     "end_time": "2025-06-21T09:57:33.582968",
     "exception": false,
     "start_time": "2025-06-21T09:57:33.564223",
     "status": "completed"
    },
    "tags": []
   },
   "outputs": [
    {
     "data": {
      "text/plain": [
       "(8693, 14)"
      ]
     },
     "execution_count": 5,
     "metadata": {},
     "output_type": "execute_result"
    }
   ],
   "source": [
    "df_train.shape"
   ]
  },
  {
   "cell_type": "code",
   "execution_count": 6,
   "id": "91f715e0",
   "metadata": {
    "execution": {
     "iopub.execute_input": "2025-06-21T09:57:33.596208Z",
     "iopub.status.busy": "2025-06-21T09:57:33.595817Z",
     "iopub.status.idle": "2025-06-21T09:57:33.604054Z",
     "shell.execute_reply": "2025-06-21T09:57:33.603264Z"
    },
    "papermill": {
     "duration": 0.016189,
     "end_time": "2025-06-21T09:57:33.605648",
     "exception": false,
     "start_time": "2025-06-21T09:57:33.589459",
     "status": "completed"
    },
    "tags": []
   },
   "outputs": [
    {
     "data": {
      "text/plain": [
       "PassengerId      object\n",
       "HomePlanet       object\n",
       "CryoSleep        object\n",
       "Cabin            object\n",
       "Destination      object\n",
       "Age             float64\n",
       "VIP              object\n",
       "RoomService     float64\n",
       "FoodCourt       float64\n",
       "ShoppingMall    float64\n",
       "Spa             float64\n",
       "VRDeck          float64\n",
       "Name             object\n",
       "Transported        bool\n",
       "dtype: object"
      ]
     },
     "execution_count": 6,
     "metadata": {},
     "output_type": "execute_result"
    }
   ],
   "source": [
    "df_train.dtypes"
   ]
  },
  {
   "cell_type": "code",
   "execution_count": 7,
   "id": "63603251",
   "metadata": {
    "execution": {
     "iopub.execute_input": "2025-06-21T09:57:33.618074Z",
     "iopub.status.busy": "2025-06-21T09:57:33.617457Z",
     "iopub.status.idle": "2025-06-21T09:57:33.651702Z",
     "shell.execute_reply": "2025-06-21T09:57:33.650850Z"
    },
    "papermill": {
     "duration": 0.042118,
     "end_time": "2025-06-21T09:57:33.653597",
     "exception": false,
     "start_time": "2025-06-21T09:57:33.611479",
     "status": "completed"
    },
    "tags": []
   },
   "outputs": [
    {
     "data": {
      "text/html": [
       "<div>\n",
       "<style scoped>\n",
       "    .dataframe tbody tr th:only-of-type {\n",
       "        vertical-align: middle;\n",
       "    }\n",
       "\n",
       "    .dataframe tbody tr th {\n",
       "        vertical-align: top;\n",
       "    }\n",
       "\n",
       "    .dataframe thead th {\n",
       "        text-align: right;\n",
       "    }\n",
       "</style>\n",
       "<table border=\"1\" class=\"dataframe\">\n",
       "  <thead>\n",
       "    <tr style=\"text-align: right;\">\n",
       "      <th></th>\n",
       "      <th>Age</th>\n",
       "      <th>RoomService</th>\n",
       "      <th>FoodCourt</th>\n",
       "      <th>ShoppingMall</th>\n",
       "      <th>Spa</th>\n",
       "      <th>VRDeck</th>\n",
       "    </tr>\n",
       "  </thead>\n",
       "  <tbody>\n",
       "    <tr>\n",
       "      <th>count</th>\n",
       "      <td>8514.000000</td>\n",
       "      <td>8512.000000</td>\n",
       "      <td>8510.000000</td>\n",
       "      <td>8485.000000</td>\n",
       "      <td>8510.000000</td>\n",
       "      <td>8505.000000</td>\n",
       "    </tr>\n",
       "    <tr>\n",
       "      <th>mean</th>\n",
       "      <td>28.827930</td>\n",
       "      <td>224.687617</td>\n",
       "      <td>458.077203</td>\n",
       "      <td>173.729169</td>\n",
       "      <td>311.138778</td>\n",
       "      <td>304.854791</td>\n",
       "    </tr>\n",
       "    <tr>\n",
       "      <th>std</th>\n",
       "      <td>14.489021</td>\n",
       "      <td>666.717663</td>\n",
       "      <td>1611.489240</td>\n",
       "      <td>604.696458</td>\n",
       "      <td>1136.705535</td>\n",
       "      <td>1145.717189</td>\n",
       "    </tr>\n",
       "    <tr>\n",
       "      <th>min</th>\n",
       "      <td>0.000000</td>\n",
       "      <td>0.000000</td>\n",
       "      <td>0.000000</td>\n",
       "      <td>0.000000</td>\n",
       "      <td>0.000000</td>\n",
       "      <td>0.000000</td>\n",
       "    </tr>\n",
       "    <tr>\n",
       "      <th>25%</th>\n",
       "      <td>19.000000</td>\n",
       "      <td>0.000000</td>\n",
       "      <td>0.000000</td>\n",
       "      <td>0.000000</td>\n",
       "      <td>0.000000</td>\n",
       "      <td>0.000000</td>\n",
       "    </tr>\n",
       "    <tr>\n",
       "      <th>50%</th>\n",
       "      <td>27.000000</td>\n",
       "      <td>0.000000</td>\n",
       "      <td>0.000000</td>\n",
       "      <td>0.000000</td>\n",
       "      <td>0.000000</td>\n",
       "      <td>0.000000</td>\n",
       "    </tr>\n",
       "    <tr>\n",
       "      <th>75%</th>\n",
       "      <td>38.000000</td>\n",
       "      <td>47.000000</td>\n",
       "      <td>76.000000</td>\n",
       "      <td>27.000000</td>\n",
       "      <td>59.000000</td>\n",
       "      <td>46.000000</td>\n",
       "    </tr>\n",
       "    <tr>\n",
       "      <th>max</th>\n",
       "      <td>79.000000</td>\n",
       "      <td>14327.000000</td>\n",
       "      <td>29813.000000</td>\n",
       "      <td>23492.000000</td>\n",
       "      <td>22408.000000</td>\n",
       "      <td>24133.000000</td>\n",
       "    </tr>\n",
       "  </tbody>\n",
       "</table>\n",
       "</div>"
      ],
      "text/plain": [
       "               Age   RoomService     FoodCourt  ShoppingMall           Spa  \\\n",
       "count  8514.000000   8512.000000   8510.000000   8485.000000   8510.000000   \n",
       "mean     28.827930    224.687617    458.077203    173.729169    311.138778   \n",
       "std      14.489021    666.717663   1611.489240    604.696458   1136.705535   \n",
       "min       0.000000      0.000000      0.000000      0.000000      0.000000   \n",
       "25%      19.000000      0.000000      0.000000      0.000000      0.000000   \n",
       "50%      27.000000      0.000000      0.000000      0.000000      0.000000   \n",
       "75%      38.000000     47.000000     76.000000     27.000000     59.000000   \n",
       "max      79.000000  14327.000000  29813.000000  23492.000000  22408.000000   \n",
       "\n",
       "             VRDeck  \n",
       "count   8505.000000  \n",
       "mean     304.854791  \n",
       "std     1145.717189  \n",
       "min        0.000000  \n",
       "25%        0.000000  \n",
       "50%        0.000000  \n",
       "75%       46.000000  \n",
       "max    24133.000000  "
      ]
     },
     "execution_count": 7,
     "metadata": {},
     "output_type": "execute_result"
    }
   ],
   "source": [
    "df_train.describe()"
   ]
  },
  {
   "cell_type": "code",
   "execution_count": 8,
   "id": "9669eea7",
   "metadata": {
    "execution": {
     "iopub.execute_input": "2025-06-21T09:57:33.672259Z",
     "iopub.status.busy": "2025-06-21T09:57:33.671922Z",
     "iopub.status.idle": "2025-06-21T09:57:33.697497Z",
     "shell.execute_reply": "2025-06-21T09:57:33.696416Z"
    },
    "papermill": {
     "duration": 0.036488,
     "end_time": "2025-06-21T09:57:33.699008",
     "exception": false,
     "start_time": "2025-06-21T09:57:33.662520",
     "status": "completed"
    },
    "tags": []
   },
   "outputs": [
    {
     "name": "stdout",
     "output_type": "stream",
     "text": [
      "<class 'pandas.core.frame.DataFrame'>\n",
      "RangeIndex: 8693 entries, 0 to 8692\n",
      "Data columns (total 14 columns):\n",
      " #   Column        Non-Null Count  Dtype  \n",
      "---  ------        --------------  -----  \n",
      " 0   PassengerId   8693 non-null   object \n",
      " 1   HomePlanet    8492 non-null   object \n",
      " 2   CryoSleep     8476 non-null   object \n",
      " 3   Cabin         8494 non-null   object \n",
      " 4   Destination   8511 non-null   object \n",
      " 5   Age           8514 non-null   float64\n",
      " 6   VIP           8490 non-null   object \n",
      " 7   RoomService   8512 non-null   float64\n",
      " 8   FoodCourt     8510 non-null   float64\n",
      " 9   ShoppingMall  8485 non-null   float64\n",
      " 10  Spa           8510 non-null   float64\n",
      " 11  VRDeck        8505 non-null   float64\n",
      " 12  Name          8493 non-null   object \n",
      " 13  Transported   8693 non-null   bool   \n",
      "dtypes: bool(1), float64(6), object(7)\n",
      "memory usage: 891.5+ KB\n"
     ]
    }
   ],
   "source": [
    "df_train.info()"
   ]
  },
  {
   "cell_type": "code",
   "execution_count": 9,
   "id": "04292f86",
   "metadata": {
    "execution": {
     "iopub.execute_input": "2025-06-21T09:57:33.712322Z",
     "iopub.status.busy": "2025-06-21T09:57:33.711384Z",
     "iopub.status.idle": "2025-06-21T09:57:33.723142Z",
     "shell.execute_reply": "2025-06-21T09:57:33.722077Z"
    },
    "papermill": {
     "duration": 0.019846,
     "end_time": "2025-06-21T09:57:33.724578",
     "exception": false,
     "start_time": "2025-06-21T09:57:33.704732",
     "status": "completed"
    },
    "tags": []
   },
   "outputs": [
    {
     "data": {
      "text/plain": [
       "PassengerId       0\n",
       "HomePlanet      201\n",
       "CryoSleep       217\n",
       "Cabin           199\n",
       "Destination     182\n",
       "Age             179\n",
       "VIP             203\n",
       "RoomService     181\n",
       "FoodCourt       183\n",
       "ShoppingMall    208\n",
       "Spa             183\n",
       "VRDeck          188\n",
       "Name            200\n",
       "Transported       0\n",
       "dtype: int64"
      ]
     },
     "execution_count": 9,
     "metadata": {},
     "output_type": "execute_result"
    }
   ],
   "source": [
    "df_train.isnull().sum()"
   ]
  },
  {
   "cell_type": "code",
   "execution_count": 10,
   "id": "105acf9b",
   "metadata": {
    "execution": {
     "iopub.execute_input": "2025-06-21T09:57:33.737253Z",
     "iopub.status.busy": "2025-06-21T09:57:33.736945Z",
     "iopub.status.idle": "2025-06-21T09:57:33.752193Z",
     "shell.execute_reply": "2025-06-21T09:57:33.751306Z"
    },
    "papermill": {
     "duration": 0.023093,
     "end_time": "2025-06-21T09:57:33.753632",
     "exception": false,
     "start_time": "2025-06-21T09:57:33.730539",
     "status": "completed"
    },
    "tags": []
   },
   "outputs": [
    {
     "data": {
      "text/plain": [
       "0"
      ]
     },
     "execution_count": 10,
     "metadata": {},
     "output_type": "execute_result"
    }
   ],
   "source": [
    "df_train.duplicated().sum()"
   ]
  },
  {
   "cell_type": "code",
   "execution_count": 11,
   "id": "ffe7b799",
   "metadata": {
    "execution": {
     "iopub.execute_input": "2025-06-21T09:57:33.765608Z",
     "iopub.status.busy": "2025-06-21T09:57:33.765317Z",
     "iopub.status.idle": "2025-06-21T09:57:33.783645Z",
     "shell.execute_reply": "2025-06-21T09:57:33.782630Z"
    },
    "papermill": {
     "duration": 0.026448,
     "end_time": "2025-06-21T09:57:33.785555",
     "exception": false,
     "start_time": "2025-06-21T09:57:33.759107",
     "status": "completed"
    },
    "tags": []
   },
   "outputs": [
    {
     "data": {
      "text/plain": [
       "Transported\n",
       "True     4378\n",
       "False    4315\n",
       "Name: count, dtype: int64"
      ]
     },
     "execution_count": 11,
     "metadata": {},
     "output_type": "execute_result"
    }
   ],
   "source": [
    "df_train['Transported'].value_counts()"
   ]
  },
  {
   "cell_type": "code",
   "execution_count": 12,
   "id": "4c0badfe",
   "metadata": {
    "execution": {
     "iopub.execute_input": "2025-06-21T09:57:33.804466Z",
     "iopub.status.busy": "2025-06-21T09:57:33.804111Z",
     "iopub.status.idle": "2025-06-21T09:57:33.813040Z",
     "shell.execute_reply": "2025-06-21T09:57:33.812093Z"
    },
    "papermill": {
     "duration": 0.019249,
     "end_time": "2025-06-21T09:57:33.814341",
     "exception": false,
     "start_time": "2025-06-21T09:57:33.795092",
     "status": "completed"
    },
    "tags": []
   },
   "outputs": [
    {
     "data": {
      "text/plain": [
       "Transported\n",
       "True     50.362361\n",
       "False    49.637639\n",
       "Name: proportion, dtype: float64"
      ]
     },
     "execution_count": 12,
     "metadata": {},
     "output_type": "execute_result"
    }
   ],
   "source": [
    "df_train['Transported'].value_counts(normalize=True)*100"
   ]
  },
  {
   "cell_type": "code",
   "execution_count": 13,
   "id": "23edab48",
   "metadata": {
    "execution": {
     "iopub.execute_input": "2025-06-21T09:57:33.827225Z",
     "iopub.status.busy": "2025-06-21T09:57:33.826903Z",
     "iopub.status.idle": "2025-06-21T09:57:33.844256Z",
     "shell.execute_reply": "2025-06-21T09:57:33.843259Z"
    },
    "papermill": {
     "duration": 0.025561,
     "end_time": "2025-06-21T09:57:33.845692",
     "exception": false,
     "start_time": "2025-06-21T09:57:33.820131",
     "status": "completed"
    },
    "tags": []
   },
   "outputs": [
    {
     "data": {
      "text/html": [
       "<div>\n",
       "<style scoped>\n",
       "    .dataframe tbody tr th:only-of-type {\n",
       "        vertical-align: middle;\n",
       "    }\n",
       "\n",
       "    .dataframe tbody tr th {\n",
       "        vertical-align: top;\n",
       "    }\n",
       "\n",
       "    .dataframe thead th {\n",
       "        text-align: right;\n",
       "    }\n",
       "</style>\n",
       "<table border=\"1\" class=\"dataframe\">\n",
       "  <thead>\n",
       "    <tr style=\"text-align: right;\">\n",
       "      <th></th>\n",
       "      <th>PassengerId</th>\n",
       "      <th>HomePlanet</th>\n",
       "      <th>CryoSleep</th>\n",
       "      <th>Cabin</th>\n",
       "      <th>Destination</th>\n",
       "      <th>Age</th>\n",
       "      <th>VIP</th>\n",
       "      <th>RoomService</th>\n",
       "      <th>FoodCourt</th>\n",
       "      <th>ShoppingMall</th>\n",
       "      <th>Spa</th>\n",
       "      <th>VRDeck</th>\n",
       "      <th>Name</th>\n",
       "      <th>Transported</th>\n",
       "    </tr>\n",
       "  </thead>\n",
       "  <tbody>\n",
       "    <tr>\n",
       "      <th>0</th>\n",
       "      <td>0001_01</td>\n",
       "      <td>Europa</td>\n",
       "      <td>False</td>\n",
       "      <td>B/0/P</td>\n",
       "      <td>TRAPPIST-1e</td>\n",
       "      <td>39.0</td>\n",
       "      <td>False</td>\n",
       "      <td>0.0</td>\n",
       "      <td>0.0</td>\n",
       "      <td>0.0</td>\n",
       "      <td>0.0</td>\n",
       "      <td>0.0</td>\n",
       "      <td>Maham Ofracculy</td>\n",
       "      <td>False</td>\n",
       "    </tr>\n",
       "    <tr>\n",
       "      <th>1</th>\n",
       "      <td>0002_01</td>\n",
       "      <td>Earth</td>\n",
       "      <td>False</td>\n",
       "      <td>F/0/S</td>\n",
       "      <td>TRAPPIST-1e</td>\n",
       "      <td>24.0</td>\n",
       "      <td>False</td>\n",
       "      <td>109.0</td>\n",
       "      <td>9.0</td>\n",
       "      <td>25.0</td>\n",
       "      <td>549.0</td>\n",
       "      <td>44.0</td>\n",
       "      <td>Juanna Vines</td>\n",
       "      <td>True</td>\n",
       "    </tr>\n",
       "    <tr>\n",
       "      <th>2</th>\n",
       "      <td>0003_01</td>\n",
       "      <td>Europa</td>\n",
       "      <td>False</td>\n",
       "      <td>A/0/S</td>\n",
       "      <td>TRAPPIST-1e</td>\n",
       "      <td>58.0</td>\n",
       "      <td>True</td>\n",
       "      <td>43.0</td>\n",
       "      <td>3576.0</td>\n",
       "      <td>0.0</td>\n",
       "      <td>6715.0</td>\n",
       "      <td>49.0</td>\n",
       "      <td>Altark Susent</td>\n",
       "      <td>False</td>\n",
       "    </tr>\n",
       "    <tr>\n",
       "      <th>3</th>\n",
       "      <td>0003_02</td>\n",
       "      <td>Europa</td>\n",
       "      <td>False</td>\n",
       "      <td>A/0/S</td>\n",
       "      <td>TRAPPIST-1e</td>\n",
       "      <td>33.0</td>\n",
       "      <td>False</td>\n",
       "      <td>0.0</td>\n",
       "      <td>1283.0</td>\n",
       "      <td>371.0</td>\n",
       "      <td>3329.0</td>\n",
       "      <td>193.0</td>\n",
       "      <td>Solam Susent</td>\n",
       "      <td>False</td>\n",
       "    </tr>\n",
       "    <tr>\n",
       "      <th>4</th>\n",
       "      <td>0004_01</td>\n",
       "      <td>Earth</td>\n",
       "      <td>False</td>\n",
       "      <td>F/1/S</td>\n",
       "      <td>TRAPPIST-1e</td>\n",
       "      <td>16.0</td>\n",
       "      <td>False</td>\n",
       "      <td>303.0</td>\n",
       "      <td>70.0</td>\n",
       "      <td>151.0</td>\n",
       "      <td>565.0</td>\n",
       "      <td>2.0</td>\n",
       "      <td>Willy Santantines</td>\n",
       "      <td>True</td>\n",
       "    </tr>\n",
       "  </tbody>\n",
       "</table>\n",
       "</div>"
      ],
      "text/plain": [
       "  PassengerId HomePlanet CryoSleep  Cabin  Destination   Age    VIP  \\\n",
       "0     0001_01     Europa     False  B/0/P  TRAPPIST-1e  39.0  False   \n",
       "1     0002_01      Earth     False  F/0/S  TRAPPIST-1e  24.0  False   \n",
       "2     0003_01     Europa     False  A/0/S  TRAPPIST-1e  58.0   True   \n",
       "3     0003_02     Europa     False  A/0/S  TRAPPIST-1e  33.0  False   \n",
       "4     0004_01      Earth     False  F/1/S  TRAPPIST-1e  16.0  False   \n",
       "\n",
       "   RoomService  FoodCourt  ShoppingMall     Spa  VRDeck               Name  \\\n",
       "0          0.0        0.0           0.0     0.0     0.0    Maham Ofracculy   \n",
       "1        109.0        9.0          25.0   549.0    44.0       Juanna Vines   \n",
       "2         43.0     3576.0           0.0  6715.0    49.0      Altark Susent   \n",
       "3          0.0     1283.0         371.0  3329.0   193.0       Solam Susent   \n",
       "4        303.0       70.0         151.0   565.0     2.0  Willy Santantines   \n",
       "\n",
       "   Transported  \n",
       "0        False  \n",
       "1         True  \n",
       "2        False  \n",
       "3        False  \n",
       "4         True  "
      ]
     },
     "execution_count": 13,
     "metadata": {},
     "output_type": "execute_result"
    }
   ],
   "source": [
    "df_train.head()"
   ]
  },
  {
   "cell_type": "code",
   "execution_count": 14,
   "id": "e08eb691",
   "metadata": {
    "execution": {
     "iopub.execute_input": "2025-06-21T09:57:33.862456Z",
     "iopub.status.busy": "2025-06-21T09:57:33.862045Z",
     "iopub.status.idle": "2025-06-21T09:57:33.888221Z",
     "shell.execute_reply": "2025-06-21T09:57:33.886659Z"
    },
    "papermill": {
     "duration": 0.037867,
     "end_time": "2025-06-21T09:57:33.890187",
     "exception": false,
     "start_time": "2025-06-21T09:57:33.852320",
     "status": "completed"
    },
    "tags": []
   },
   "outputs": [
    {
     "name": "stdout",
     "output_type": "stream",
     "text": [
      "HomePlanet:  ['Europa' 'Earth' 'Mars' nan]\n",
      "HomePlanet:  3\n",
      "CryoSleep:  [False True nan]\n",
      "CryoSleep:  2\n",
      "Cabin:  ['B/0/P' 'F/0/S' 'A/0/S' ... 'G/1499/S' 'G/1500/S' 'E/608/S']\n",
      "Cabin:  6560\n",
      "Destination:  ['TRAPPIST-1e' 'PSO J318.5-22' '55 Cancri e' nan]\n",
      "Destination:  3\n",
      "Age:  [39. 24. 58. 33. 16. 44. 26. 28. 35. 14. 34. 45. 32. 48. 31. 27.  0.  1.\n",
      " 49. 29. 10.  7. 21. 62. 15. 43. 47.  2. 20. 23. 30. 17. 55.  4. 19. 56.\n",
      " nan 25. 38. 36. 22. 18. 42. 37. 13.  8. 40.  3. 54.  9.  6. 64. 67. 61.\n",
      " 50. 41. 57. 11. 52. 51. 46. 60. 63. 59.  5. 79. 68. 74. 12. 53. 65. 71.\n",
      " 75. 70. 76. 78. 73. 66. 69. 72. 77.]\n",
      "Age:  80\n",
      "VIP:  [False True nan]\n",
      "VIP:  2\n",
      "RoomService:  [   0.  109.   43. ... 1569. 8586.  745.]\n",
      "RoomService:  1273\n",
      "FoodCourt:  [   0.    9. 3576. ... 3208. 6819. 4688.]\n",
      "FoodCourt:  1507\n",
      "ShoppingMall:  [   0.   25.  371. ... 1085.  510. 1872.]\n",
      "ShoppingMall:  1115\n",
      "Spa:  [   0.  549. 6715. ... 2868. 1107. 1643.]\n",
      "Spa:  1327\n",
      "VRDeck:  [   0.   44.   49. ... 1164.  971. 3235.]\n",
      "VRDeck:  1306\n",
      "Name:  ['Maham Ofracculy' 'Juanna Vines' 'Altark Susent' ... 'Fayey Connon'\n",
      " 'Celeon Hontichre' 'Propsh Hontichre']\n",
      "Name:  8473\n",
      "Transported:  [False  True]\n",
      "Transported:  2\n"
     ]
    }
   ],
   "source": [
    "print(\"HomePlanet: \",df_train['HomePlanet'].unique())\n",
    "print(\"HomePlanet: \",df_train['HomePlanet'].nunique())\n",
    "\n",
    "print(\"CryoSleep: \",df_train['CryoSleep'].unique())\n",
    "print(\"CryoSleep: \",df_train['CryoSleep'].nunique())\n",
    "\n",
    "print(\"Cabin: \",df_train['Cabin'].unique())\n",
    "print(\"Cabin: \",df_train['Cabin'].nunique())\n",
    "\n",
    "print(\"Destination: \",df_train['Destination'].unique())\n",
    "print(\"Destination: \",df_train['Destination'].nunique())\n",
    "\n",
    "print(\"Age: \",df_train['Age'].unique())\n",
    "print(\"Age: \",df_train['Age'].nunique())\n",
    "\n",
    "print(\"VIP: \",df_train['VIP'].unique())\n",
    "print(\"VIP: \",df_train['VIP'].nunique())\n",
    "\n",
    "print(\"RoomService: \",df_train['RoomService'].unique())\n",
    "print(\"RoomService: \",df_train['RoomService'].nunique())\n",
    "\n",
    "print(\"FoodCourt: \",df_train['FoodCourt'].unique())\n",
    "print(\"FoodCourt: \",df_train['FoodCourt'].nunique())\n",
    "\n",
    "print(\"ShoppingMall: \",df_train['ShoppingMall'].unique())\n",
    "print(\"ShoppingMall: \",df_train['ShoppingMall'].nunique())\n",
    "\n",
    "print(\"Spa: \",df_train['Spa'].unique())\n",
    "print(\"Spa: \",df_train['Spa'].nunique())\n",
    "\n",
    "print(\"VRDeck: \",df_train['VRDeck'].unique())\n",
    "print(\"VRDeck: \",df_train['VRDeck'].nunique())\n",
    "\n",
    "print(\"Name: \",df_train['Name'].unique())\n",
    "print(\"Name: \",df_train['Name'].nunique())\n",
    "\n",
    "print(\"Transported: \",df_train['Transported'].unique())\n",
    "print(\"Transported: \",df_train['Transported'].nunique())"
   ]
  },
  {
   "cell_type": "code",
   "execution_count": 15,
   "id": "606d3775",
   "metadata": {
    "execution": {
     "iopub.execute_input": "2025-06-21T09:57:33.905503Z",
     "iopub.status.busy": "2025-06-21T09:57:33.905198Z",
     "iopub.status.idle": "2025-06-21T09:57:33.920869Z",
     "shell.execute_reply": "2025-06-21T09:57:33.919866Z"
    },
    "papermill": {
     "duration": 0.024655,
     "end_time": "2025-06-21T09:57:33.922372",
     "exception": false,
     "start_time": "2025-06-21T09:57:33.897717",
     "status": "completed"
    },
    "tags": []
   },
   "outputs": [
    {
     "data": {
      "text/html": [
       "<div>\n",
       "<style scoped>\n",
       "    .dataframe tbody tr th:only-of-type {\n",
       "        vertical-align: middle;\n",
       "    }\n",
       "\n",
       "    .dataframe tbody tr th {\n",
       "        vertical-align: top;\n",
       "    }\n",
       "\n",
       "    .dataframe thead th {\n",
       "        text-align: right;\n",
       "    }\n",
       "</style>\n",
       "<table border=\"1\" class=\"dataframe\">\n",
       "  <thead>\n",
       "    <tr style=\"text-align: right;\">\n",
       "      <th></th>\n",
       "      <th>PassengerId</th>\n",
       "      <th>HomePlanet</th>\n",
       "      <th>CryoSleep</th>\n",
       "      <th>Cabin</th>\n",
       "      <th>Destination</th>\n",
       "      <th>Age</th>\n",
       "      <th>VIP</th>\n",
       "      <th>RoomService</th>\n",
       "      <th>FoodCourt</th>\n",
       "      <th>ShoppingMall</th>\n",
       "      <th>Spa</th>\n",
       "      <th>VRDeck</th>\n",
       "      <th>Name</th>\n",
       "      <th>Transported</th>\n",
       "    </tr>\n",
       "  </thead>\n",
       "  <tbody>\n",
       "    <tr>\n",
       "      <th>0</th>\n",
       "      <td>0001_01</td>\n",
       "      <td>Europa</td>\n",
       "      <td>False</td>\n",
       "      <td>B/0/P</td>\n",
       "      <td>TRAPPIST-1e</td>\n",
       "      <td>39.0</td>\n",
       "      <td>False</td>\n",
       "      <td>0.0</td>\n",
       "      <td>0.0</td>\n",
       "      <td>0.0</td>\n",
       "      <td>0.0</td>\n",
       "      <td>0.0</td>\n",
       "      <td>Maham Ofracculy</td>\n",
       "      <td>False</td>\n",
       "    </tr>\n",
       "    <tr>\n",
       "      <th>1</th>\n",
       "      <td>0002_01</td>\n",
       "      <td>Earth</td>\n",
       "      <td>False</td>\n",
       "      <td>F/0/S</td>\n",
       "      <td>TRAPPIST-1e</td>\n",
       "      <td>24.0</td>\n",
       "      <td>False</td>\n",
       "      <td>109.0</td>\n",
       "      <td>9.0</td>\n",
       "      <td>25.0</td>\n",
       "      <td>549.0</td>\n",
       "      <td>44.0</td>\n",
       "      <td>Juanna Vines</td>\n",
       "      <td>True</td>\n",
       "    </tr>\n",
       "    <tr>\n",
       "      <th>2</th>\n",
       "      <td>0003_01</td>\n",
       "      <td>Europa</td>\n",
       "      <td>False</td>\n",
       "      <td>A/0/S</td>\n",
       "      <td>TRAPPIST-1e</td>\n",
       "      <td>58.0</td>\n",
       "      <td>True</td>\n",
       "      <td>43.0</td>\n",
       "      <td>3576.0</td>\n",
       "      <td>0.0</td>\n",
       "      <td>6715.0</td>\n",
       "      <td>49.0</td>\n",
       "      <td>Altark Susent</td>\n",
       "      <td>False</td>\n",
       "    </tr>\n",
       "    <tr>\n",
       "      <th>3</th>\n",
       "      <td>0003_02</td>\n",
       "      <td>Europa</td>\n",
       "      <td>False</td>\n",
       "      <td>A/0/S</td>\n",
       "      <td>TRAPPIST-1e</td>\n",
       "      <td>33.0</td>\n",
       "      <td>False</td>\n",
       "      <td>0.0</td>\n",
       "      <td>1283.0</td>\n",
       "      <td>371.0</td>\n",
       "      <td>3329.0</td>\n",
       "      <td>193.0</td>\n",
       "      <td>Solam Susent</td>\n",
       "      <td>False</td>\n",
       "    </tr>\n",
       "    <tr>\n",
       "      <th>4</th>\n",
       "      <td>0004_01</td>\n",
       "      <td>Earth</td>\n",
       "      <td>False</td>\n",
       "      <td>F/1/S</td>\n",
       "      <td>TRAPPIST-1e</td>\n",
       "      <td>16.0</td>\n",
       "      <td>False</td>\n",
       "      <td>303.0</td>\n",
       "      <td>70.0</td>\n",
       "      <td>151.0</td>\n",
       "      <td>565.0</td>\n",
       "      <td>2.0</td>\n",
       "      <td>Willy Santantines</td>\n",
       "      <td>True</td>\n",
       "    </tr>\n",
       "  </tbody>\n",
       "</table>\n",
       "</div>"
      ],
      "text/plain": [
       "  PassengerId HomePlanet CryoSleep  Cabin  Destination   Age    VIP  \\\n",
       "0     0001_01     Europa     False  B/0/P  TRAPPIST-1e  39.0  False   \n",
       "1     0002_01      Earth     False  F/0/S  TRAPPIST-1e  24.0  False   \n",
       "2     0003_01     Europa     False  A/0/S  TRAPPIST-1e  58.0   True   \n",
       "3     0003_02     Europa     False  A/0/S  TRAPPIST-1e  33.0  False   \n",
       "4     0004_01      Earth     False  F/1/S  TRAPPIST-1e  16.0  False   \n",
       "\n",
       "   RoomService  FoodCourt  ShoppingMall     Spa  VRDeck               Name  \\\n",
       "0          0.0        0.0           0.0     0.0     0.0    Maham Ofracculy   \n",
       "1        109.0        9.0          25.0   549.0    44.0       Juanna Vines   \n",
       "2         43.0     3576.0           0.0  6715.0    49.0      Altark Susent   \n",
       "3          0.0     1283.0         371.0  3329.0   193.0       Solam Susent   \n",
       "4        303.0       70.0         151.0   565.0     2.0  Willy Santantines   \n",
       "\n",
       "   Transported  \n",
       "0        False  \n",
       "1         True  \n",
       "2        False  \n",
       "3        False  \n",
       "4         True  "
      ]
     },
     "execution_count": 15,
     "metadata": {},
     "output_type": "execute_result"
    }
   ],
   "source": [
    "df_train.head()"
   ]
  },
  {
   "cell_type": "code",
   "execution_count": 16,
   "id": "0ed5d33c",
   "metadata": {
    "execution": {
     "iopub.execute_input": "2025-06-21T09:57:33.936851Z",
     "iopub.status.busy": "2025-06-21T09:57:33.935706Z",
     "iopub.status.idle": "2025-06-21T09:57:33.948022Z",
     "shell.execute_reply": "2025-06-21T09:57:33.946884Z"
    },
    "papermill": {
     "duration": 0.021511,
     "end_time": "2025-06-21T09:57:33.950096",
     "exception": false,
     "start_time": "2025-06-21T09:57:33.928585",
     "status": "completed"
    },
    "tags": []
   },
   "outputs": [
    {
     "data": {
      "text/plain": [
       "PassengerId       0\n",
       "HomePlanet      201\n",
       "CryoSleep       217\n",
       "Cabin           199\n",
       "Destination     182\n",
       "Age             179\n",
       "VIP             203\n",
       "RoomService     181\n",
       "FoodCourt       183\n",
       "ShoppingMall    208\n",
       "Spa             183\n",
       "VRDeck          188\n",
       "Name            200\n",
       "Transported       0\n",
       "dtype: int64"
      ]
     },
     "execution_count": 16,
     "metadata": {},
     "output_type": "execute_result"
    }
   ],
   "source": [
    "### Handle the Missing Values\n",
    "\n",
    "df_train.isnull().sum()"
   ]
  },
  {
   "cell_type": "code",
   "execution_count": 17,
   "id": "b4f2b96f",
   "metadata": {
    "execution": {
     "iopub.execute_input": "2025-06-21T09:57:33.972752Z",
     "iopub.status.busy": "2025-06-21T09:57:33.972391Z",
     "iopub.status.idle": "2025-06-21T09:57:33.992778Z",
     "shell.execute_reply": "2025-06-21T09:57:33.991956Z"
    },
    "papermill": {
     "duration": 0.032785,
     "end_time": "2025-06-21T09:57:33.994301",
     "exception": false,
     "start_time": "2025-06-21T09:57:33.961516",
     "status": "completed"
    },
    "tags": []
   },
   "outputs": [
    {
     "name": "stdout",
     "output_type": "stream",
     "text": [
      "<class 'pandas.core.frame.DataFrame'>\n",
      "RangeIndex: 8693 entries, 0 to 8692\n",
      "Data columns (total 14 columns):\n",
      " #   Column        Non-Null Count  Dtype  \n",
      "---  ------        --------------  -----  \n",
      " 0   PassengerId   8693 non-null   object \n",
      " 1   HomePlanet    8492 non-null   object \n",
      " 2   CryoSleep     8476 non-null   object \n",
      " 3   Cabin         8494 non-null   object \n",
      " 4   Destination   8511 non-null   object \n",
      " 5   Age           8514 non-null   float64\n",
      " 6   VIP           8490 non-null   object \n",
      " 7   RoomService   8512 non-null   float64\n",
      " 8   FoodCourt     8510 non-null   float64\n",
      " 9   ShoppingMall  8485 non-null   float64\n",
      " 10  Spa           8510 non-null   float64\n",
      " 11  VRDeck        8505 non-null   float64\n",
      " 12  Name          8493 non-null   object \n",
      " 13  Transported   8693 non-null   bool   \n",
      "dtypes: bool(1), float64(6), object(7)\n",
      "memory usage: 891.5+ KB\n"
     ]
    }
   ],
   "source": [
    "df_train.info()"
   ]
  },
  {
   "cell_type": "code",
   "execution_count": 18,
   "id": "a5c35444",
   "metadata": {
    "execution": {
     "iopub.execute_input": "2025-06-21T09:57:34.008847Z",
     "iopub.status.busy": "2025-06-21T09:57:34.008449Z",
     "iopub.status.idle": "2025-06-21T09:57:34.036061Z",
     "shell.execute_reply": "2025-06-21T09:57:34.035196Z"
    },
    "papermill": {
     "duration": 0.036674,
     "end_time": "2025-06-21T09:57:34.037616",
     "exception": false,
     "start_time": "2025-06-21T09:57:34.000942",
     "status": "completed"
    },
    "tags": []
   },
   "outputs": [
    {
     "name": "stderr",
     "output_type": "stream",
     "text": [
      "/tmp/ipykernel_13/2395914506.py:2: FutureWarning: Downcasting object dtype arrays on .fillna, .ffill, .bfill is deprecated and will change in a future version. Call result.infer_objects(copy=False) instead. To opt-in to the future behavior, set `pd.set_option('future.no_silent_downcasting', True)`\n",
      "  df_train['CryoSleep'] = df_train['CryoSleep'].fillna(df_train['CryoSleep'].mode()[0])\n",
      "/tmp/ipykernel_13/2395914506.py:6: FutureWarning: Downcasting object dtype arrays on .fillna, .ffill, .bfill is deprecated and will change in a future version. Call result.infer_objects(copy=False) instead. To opt-in to the future behavior, set `pd.set_option('future.no_silent_downcasting', True)`\n",
      "  df_train['VIP'] = df_train['VIP'].fillna(df_train['VIP'].mode()[0])\n"
     ]
    }
   ],
   "source": [
    "df_train['HomePlanet'] = df_train['HomePlanet'].fillna(df_train['HomePlanet'].mode()[0])\n",
    "df_train['CryoSleep'] = df_train['CryoSleep'].fillna(df_train['CryoSleep'].mode()[0])\n",
    "df_train['Cabin'] = df_train['Cabin'].fillna('Unknown')\n",
    "df_train['Destination'] = df_train['Destination'].fillna(df_train['Destination'].mode()[0])\n",
    "df_train['Age'] = df_train['Age'].fillna(df_train['Age'].median())\n",
    "df_train['VIP'] = df_train['VIP'].fillna(df_train['VIP'].mode()[0])\n",
    "df_train['FoodCourt'] = df_train['FoodCourt'].fillna(0)\n",
    "df_train['RoomService'] = df_train['RoomService'].fillna(0)\n",
    "df_train['Spa'] = df_train['Spa'].fillna(0)\n",
    "df_train['ShoppingMall'] = df_train['ShoppingMall'].fillna(0)\n",
    "df_train['VRDeck'] = df_train['VRDeck'].fillna(0)\n",
    "df_train['Name'] = df_train['Name'].fillna('Unknown')"
   ]
  },
  {
   "cell_type": "code",
   "execution_count": 19,
   "id": "f9a0c642",
   "metadata": {
    "execution": {
     "iopub.execute_input": "2025-06-21T09:57:34.051947Z",
     "iopub.status.busy": "2025-06-21T09:57:34.051113Z",
     "iopub.status.idle": "2025-06-21T09:57:34.065416Z",
     "shell.execute_reply": "2025-06-21T09:57:34.064451Z"
    },
    "papermill": {
     "duration": 0.022978,
     "end_time": "2025-06-21T09:57:34.066869",
     "exception": false,
     "start_time": "2025-06-21T09:57:34.043891",
     "status": "completed"
    },
    "tags": []
   },
   "outputs": [
    {
     "data": {
      "text/plain": [
       "PassengerId     0\n",
       "HomePlanet      0\n",
       "CryoSleep       0\n",
       "Cabin           0\n",
       "Destination     0\n",
       "Age             0\n",
       "VIP             0\n",
       "RoomService     0\n",
       "FoodCourt       0\n",
       "ShoppingMall    0\n",
       "Spa             0\n",
       "VRDeck          0\n",
       "Name            0\n",
       "Transported     0\n",
       "dtype: int64"
      ]
     },
     "execution_count": 19,
     "metadata": {},
     "output_type": "execute_result"
    }
   ],
   "source": [
    "df_train.isnull().sum()"
   ]
  },
  {
   "cell_type": "code",
   "execution_count": 20,
   "id": "b07d17b7",
   "metadata": {
    "execution": {
     "iopub.execute_input": "2025-06-21T09:57:34.081013Z",
     "iopub.status.busy": "2025-06-21T09:57:34.080593Z",
     "iopub.status.idle": "2025-06-21T09:57:34.088415Z",
     "shell.execute_reply": "2025-06-21T09:57:34.087449Z"
    },
    "papermill": {
     "duration": 0.016835,
     "end_time": "2025-06-21T09:57:34.090079",
     "exception": false,
     "start_time": "2025-06-21T09:57:34.073244",
     "status": "completed"
    },
    "tags": []
   },
   "outputs": [
    {
     "data": {
      "text/plain": [
       "PassengerId      object\n",
       "HomePlanet       object\n",
       "CryoSleep          bool\n",
       "Cabin            object\n",
       "Destination      object\n",
       "Age             float64\n",
       "VIP                bool\n",
       "RoomService     float64\n",
       "FoodCourt       float64\n",
       "ShoppingMall    float64\n",
       "Spa             float64\n",
       "VRDeck          float64\n",
       "Name             object\n",
       "Transported        bool\n",
       "dtype: object"
      ]
     },
     "execution_count": 20,
     "metadata": {},
     "output_type": "execute_result"
    }
   ],
   "source": [
    "df_train.dtypes"
   ]
  },
  {
   "cell_type": "code",
   "execution_count": 21,
   "id": "05d15521",
   "metadata": {
    "execution": {
     "iopub.execute_input": "2025-06-21T09:57:34.104129Z",
     "iopub.status.busy": "2025-06-21T09:57:34.103840Z",
     "iopub.status.idle": "2025-06-21T09:57:34.118066Z",
     "shell.execute_reply": "2025-06-21T09:57:34.117061Z"
    },
    "papermill": {
     "duration": 0.023027,
     "end_time": "2025-06-21T09:57:34.119649",
     "exception": false,
     "start_time": "2025-06-21T09:57:34.096622",
     "status": "completed"
    },
    "tags": []
   },
   "outputs": [
    {
     "data": {
      "text/html": [
       "<div>\n",
       "<style scoped>\n",
       "    .dataframe tbody tr th:only-of-type {\n",
       "        vertical-align: middle;\n",
       "    }\n",
       "\n",
       "    .dataframe tbody tr th {\n",
       "        vertical-align: top;\n",
       "    }\n",
       "\n",
       "    .dataframe thead th {\n",
       "        text-align: right;\n",
       "    }\n",
       "</style>\n",
       "<table border=\"1\" class=\"dataframe\">\n",
       "  <thead>\n",
       "    <tr style=\"text-align: right;\">\n",
       "      <th></th>\n",
       "      <th>PassengerId</th>\n",
       "      <th>HomePlanet</th>\n",
       "      <th>CryoSleep</th>\n",
       "      <th>Cabin</th>\n",
       "      <th>Destination</th>\n",
       "      <th>Age</th>\n",
       "      <th>VIP</th>\n",
       "      <th>RoomService</th>\n",
       "      <th>FoodCourt</th>\n",
       "      <th>ShoppingMall</th>\n",
       "      <th>Spa</th>\n",
       "      <th>VRDeck</th>\n",
       "      <th>Name</th>\n",
       "      <th>Transported</th>\n",
       "    </tr>\n",
       "  </thead>\n",
       "  <tbody>\n",
       "    <tr>\n",
       "      <th>0</th>\n",
       "      <td>0001_01</td>\n",
       "      <td>Europa</td>\n",
       "      <td>False</td>\n",
       "      <td>B/0/P</td>\n",
       "      <td>TRAPPIST-1e</td>\n",
       "      <td>39.0</td>\n",
       "      <td>False</td>\n",
       "      <td>0.0</td>\n",
       "      <td>0.0</td>\n",
       "      <td>0.0</td>\n",
       "      <td>0.0</td>\n",
       "      <td>0.0</td>\n",
       "      <td>Maham Ofracculy</td>\n",
       "      <td>False</td>\n",
       "    </tr>\n",
       "    <tr>\n",
       "      <th>1</th>\n",
       "      <td>0002_01</td>\n",
       "      <td>Earth</td>\n",
       "      <td>False</td>\n",
       "      <td>F/0/S</td>\n",
       "      <td>TRAPPIST-1e</td>\n",
       "      <td>24.0</td>\n",
       "      <td>False</td>\n",
       "      <td>109.0</td>\n",
       "      <td>9.0</td>\n",
       "      <td>25.0</td>\n",
       "      <td>549.0</td>\n",
       "      <td>44.0</td>\n",
       "      <td>Juanna Vines</td>\n",
       "      <td>True</td>\n",
       "    </tr>\n",
       "  </tbody>\n",
       "</table>\n",
       "</div>"
      ],
      "text/plain": [
       "  PassengerId HomePlanet  CryoSleep  Cabin  Destination   Age    VIP  \\\n",
       "0     0001_01     Europa      False  B/0/P  TRAPPIST-1e  39.0  False   \n",
       "1     0002_01      Earth      False  F/0/S  TRAPPIST-1e  24.0  False   \n",
       "\n",
       "   RoomService  FoodCourt  ShoppingMall    Spa  VRDeck             Name  \\\n",
       "0          0.0        0.0           0.0    0.0     0.0  Maham Ofracculy   \n",
       "1        109.0        9.0          25.0  549.0    44.0     Juanna Vines   \n",
       "\n",
       "   Transported  \n",
       "0        False  \n",
       "1         True  "
      ]
     },
     "execution_count": 21,
     "metadata": {},
     "output_type": "execute_result"
    }
   ],
   "source": [
    "df_train.head(2)"
   ]
  },
  {
   "cell_type": "code",
   "execution_count": 22,
   "id": "95f746f4",
   "metadata": {
    "execution": {
     "iopub.execute_input": "2025-06-21T09:57:34.140413Z",
     "iopub.status.busy": "2025-06-21T09:57:34.140037Z",
     "iopub.status.idle": "2025-06-21T09:57:34.161860Z",
     "shell.execute_reply": "2025-06-21T09:57:34.160622Z"
    },
    "papermill": {
     "duration": 0.032024,
     "end_time": "2025-06-21T09:57:34.163441",
     "exception": false,
     "start_time": "2025-06-21T09:57:34.131417",
     "status": "completed"
    },
    "tags": []
   },
   "outputs": [
    {
     "name": "stdout",
     "output_type": "stream",
     "text": [
      "Outliers: \n",
      "      PassengerId HomePlanet  CryoSleep     Cabin    Destination   Age    VIP  \\\n",
      "109      0113_01      Earth      False    F/23/P    TRAPPIST-1e  64.0  False   \n",
      "118      0126_01       Mars       True    F/27/S    TRAPPIST-1e  67.0  False   \n",
      "248      0270_01      Earth      False    F/59/P    TRAPPIST-1e  63.0  False   \n",
      "280      0310_01     Europa      False   Unknown    TRAPPIST-1e  67.0  False   \n",
      "335      0377_01     Europa      False    C/15/S    55 Cancri e  63.0  False   \n",
      "...          ...        ...        ...       ...            ...   ...    ...   \n",
      "8254     8816_05     Europa      False   B/340/S    TRAPPIST-1e  64.0  False   \n",
      "8288     8852_01       Mars       True   D/278/P    TRAPPIST-1e  76.0  False   \n",
      "8369     8954_01      Earth      False  G/1452/P  PSO J318.5-22  73.0  False   \n",
      "8516     9085_01     Europa      False    A/95/P    55 Cancri e  70.0  False   \n",
      "8539     9118_02      Earth      False  G/1482/P    TRAPPIST-1e  64.0  False   \n",
      "\n",
      "      RoomService  FoodCourt  ShoppingMall     Spa  VRDeck               Name  \\\n",
      "109           0.0        0.0         804.0     0.0     0.0       Idary Carvis   \n",
      "118           0.0        0.0           0.0     0.0     0.0         Milly Mish   \n",
      "248           0.0       25.0         128.0     0.0  1240.0  Cathya Fryersonis   \n",
      "280           0.0      230.0           0.0  4476.0   241.0   Naviton Coudered   \n",
      "335           0.0     1068.0           0.0   176.0  8188.0  Wezncha Excialing   \n",
      "...           ...        ...           ...     ...     ...                ...   \n",
      "8254          0.0     1770.0           0.0  4111.0   180.0    Terops Diouselt   \n",
      "8288          0.0        0.0           0.0     0.0     0.0         Aark Homin   \n",
      "8369       1806.0        0.0          47.0     0.0     0.0       Ianne Torrez   \n",
      "8516          0.0     2113.0           0.0  1972.0    51.0            Unknown   \n",
      "8539         37.0     1585.0         234.0     0.0    18.0  Gwendy Malliamsey   \n",
      "\n",
      "      Transported  \n",
      "109          True  \n",
      "118          True  \n",
      "248         False  \n",
      "280         False  \n",
      "335         False  \n",
      "...           ...  \n",
      "8254        False  \n",
      "8288         True  \n",
      "8369        False  \n",
      "8516        False  \n",
      "8539         True  \n",
      "\n",
      "[162 rows x 14 columns]\n"
     ]
    }
   ],
   "source": [
    "Q1 = df_train['Age'].quantile(0.25)\n",
    "Q3 = df_train['Age'].quantile(0.75)\n",
    "\n",
    "IQR = Q3 - Q1\n",
    "\n",
    "lower_bound = Q1 - 1.5*IQR\n",
    "upper_bound = Q3 + 1.5*IQR\n",
    "\n",
    "outliers = df_train[(df_train['Age'] < lower_bound) | (df_train['Age'] > upper_bound)]\n",
    "\n",
    "print(\"Outliers: \\n\",outliers)\n"
   ]
  },
  {
   "cell_type": "code",
   "execution_count": 23,
   "id": "b7f5f65e",
   "metadata": {
    "execution": {
     "iopub.execute_input": "2025-06-21T09:57:34.177631Z",
     "iopub.status.busy": "2025-06-21T09:57:34.177342Z",
     "iopub.status.idle": "2025-06-21T09:57:34.454197Z",
     "shell.execute_reply": "2025-06-21T09:57:34.453243Z"
    },
    "papermill": {
     "duration": 0.285657,
     "end_time": "2025-06-21T09:57:34.455700",
     "exception": false,
     "start_time": "2025-06-21T09:57:34.170043",
     "status": "completed"
    },
    "tags": []
   },
   "outputs": [
    {
     "data": {
      "image/png": "[encoded data removed]",
      "text/plain": [
       "<Figure size 640x480 with 1 Axes>"
      ]
     },
     "metadata": {},
     "output_type": "display_data"
    }
   ],
   "source": [
    "sns.boxplot(y=df_train['Age'])\n",
    "plt.title('Boxplot of Age')\n",
    "plt.ylabel('Age')\n",
    "plt.show()"
   ]
  },
  {
   "cell_type": "code",
   "execution_count": 24,
   "id": "2912fd84",
   "metadata": {
    "execution": {
     "iopub.execute_input": "2025-06-21T09:57:34.471332Z",
     "iopub.status.busy": "2025-06-21T09:57:34.470973Z",
     "iopub.status.idle": "2025-06-21T09:57:34.483554Z",
     "shell.execute_reply": "2025-06-21T09:57:34.482641Z"
    },
    "papermill": {
     "duration": 0.022429,
     "end_time": "2025-06-21T09:57:34.485179",
     "exception": false,
     "start_time": "2025-06-21T09:57:34.462750",
     "status": "completed"
    },
    "tags": []
   },
   "outputs": [],
   "source": [
    "median_age = df_train['Age'].median()\n",
    "df_train['Age'] = df_train['Age'].apply(lambda x:median_age if x< lower_bound or x>upper_bound else x)"
   ]
  },
  {
   "cell_type": "code",
   "execution_count": 25,
   "id": "25118bac",
   "metadata": {
    "execution": {
     "iopub.execute_input": "2025-06-21T09:57:34.500691Z",
     "iopub.status.busy": "2025-06-21T09:57:34.500392Z",
     "iopub.status.idle": "2025-06-21T09:57:34.630624Z",
     "shell.execute_reply": "2025-06-21T09:57:34.629760Z"
    },
    "papermill": {
     "duration": 0.139987,
     "end_time": "2025-06-21T09:57:34.632474",
     "exception": false,
     "start_time": "2025-06-21T09:57:34.492487",
     "status": "completed"
    },
    "tags": []
   },
   "outputs": [
    {
     "data": {
      "image/png": "[encoded data removed]",
      "text/plain": [
       "<Figure size 640x480 with 1 Axes>"
      ]
     },
     "metadata": {},
     "output_type": "display_data"
    }
   ],
   "source": [
    "sns.boxplot(y=df_train['Age'])\n",
    "plt.title('Boxplot of Age')\n",
    "plt.ylabel('Age')\n",
    "plt.show()"
   ]
  },
  {
   "cell_type": "code",
   "execution_count": 26,
   "id": "4390ed38",
   "metadata": {
    "execution": {
     "iopub.execute_input": "2025-06-21T09:57:34.655022Z",
     "iopub.status.busy": "2025-06-21T09:57:34.654685Z",
     "iopub.status.idle": "2025-06-21T09:57:34.671694Z",
     "shell.execute_reply": "2025-06-21T09:57:34.670862Z"
    },
    "papermill": {
     "duration": 0.027537,
     "end_time": "2025-06-21T09:57:34.673268",
     "exception": false,
     "start_time": "2025-06-21T09:57:34.645731",
     "status": "completed"
    },
    "tags": []
   },
   "outputs": [
    {
     "data": {
      "text/html": [
       "<div>\n",
       "<style scoped>\n",
       "    .dataframe tbody tr th:only-of-type {\n",
       "        vertical-align: middle;\n",
       "    }\n",
       "\n",
       "    .dataframe tbody tr th {\n",
       "        vertical-align: top;\n",
       "    }\n",
       "\n",
       "    .dataframe thead th {\n",
       "        text-align: right;\n",
       "    }\n",
       "</style>\n",
       "<table border=\"1\" class=\"dataframe\">\n",
       "  <thead>\n",
       "    <tr style=\"text-align: right;\">\n",
       "      <th></th>\n",
       "      <th>PassengerId</th>\n",
       "      <th>HomePlanet</th>\n",
       "      <th>CryoSleep</th>\n",
       "      <th>Cabin</th>\n",
       "      <th>Destination</th>\n",
       "      <th>Age</th>\n",
       "      <th>VIP</th>\n",
       "      <th>RoomService</th>\n",
       "      <th>FoodCourt</th>\n",
       "      <th>ShoppingMall</th>\n",
       "      <th>Spa</th>\n",
       "      <th>VRDeck</th>\n",
       "      <th>Name</th>\n",
       "      <th>Transported</th>\n",
       "    </tr>\n",
       "  </thead>\n",
       "  <tbody>\n",
       "    <tr>\n",
       "      <th>0</th>\n",
       "      <td>0001_01</td>\n",
       "      <td>Europa</td>\n",
       "      <td>False</td>\n",
       "      <td>B/0/P</td>\n",
       "      <td>TRAPPIST-1e</td>\n",
       "      <td>39.0</td>\n",
       "      <td>False</td>\n",
       "      <td>0.0</td>\n",
       "      <td>0.0</td>\n",
       "      <td>0.0</td>\n",
       "      <td>0.0</td>\n",
       "      <td>0.0</td>\n",
       "      <td>Maham Ofracculy</td>\n",
       "      <td>False</td>\n",
       "    </tr>\n",
       "    <tr>\n",
       "      <th>1</th>\n",
       "      <td>0002_01</td>\n",
       "      <td>Earth</td>\n",
       "      <td>False</td>\n",
       "      <td>F/0/S</td>\n",
       "      <td>TRAPPIST-1e</td>\n",
       "      <td>24.0</td>\n",
       "      <td>False</td>\n",
       "      <td>109.0</td>\n",
       "      <td>9.0</td>\n",
       "      <td>25.0</td>\n",
       "      <td>549.0</td>\n",
       "      <td>44.0</td>\n",
       "      <td>Juanna Vines</td>\n",
       "      <td>True</td>\n",
       "    </tr>\n",
       "    <tr>\n",
       "      <th>2</th>\n",
       "      <td>0003_01</td>\n",
       "      <td>Europa</td>\n",
       "      <td>False</td>\n",
       "      <td>A/0/S</td>\n",
       "      <td>TRAPPIST-1e</td>\n",
       "      <td>58.0</td>\n",
       "      <td>True</td>\n",
       "      <td>43.0</td>\n",
       "      <td>3576.0</td>\n",
       "      <td>0.0</td>\n",
       "      <td>6715.0</td>\n",
       "      <td>49.0</td>\n",
       "      <td>Altark Susent</td>\n",
       "      <td>False</td>\n",
       "    </tr>\n",
       "    <tr>\n",
       "      <th>3</th>\n",
       "      <td>0003_02</td>\n",
       "      <td>Europa</td>\n",
       "      <td>False</td>\n",
       "      <td>A/0/S</td>\n",
       "      <td>TRAPPIST-1e</td>\n",
       "      <td>33.0</td>\n",
       "      <td>False</td>\n",
       "      <td>0.0</td>\n",
       "      <td>1283.0</td>\n",
       "      <td>371.0</td>\n",
       "      <td>3329.0</td>\n",
       "      <td>193.0</td>\n",
       "      <td>Solam Susent</td>\n",
       "      <td>False</td>\n",
       "    </tr>\n",
       "    <tr>\n",
       "      <th>4</th>\n",
       "      <td>0004_01</td>\n",
       "      <td>Earth</td>\n",
       "      <td>False</td>\n",
       "      <td>F/1/S</td>\n",
       "      <td>TRAPPIST-1e</td>\n",
       "      <td>16.0</td>\n",
       "      <td>False</td>\n",
       "      <td>303.0</td>\n",
       "      <td>70.0</td>\n",
       "      <td>151.0</td>\n",
       "      <td>565.0</td>\n",
       "      <td>2.0</td>\n",
       "      <td>Willy Santantines</td>\n",
       "      <td>True</td>\n",
       "    </tr>\n",
       "  </tbody>\n",
       "</table>\n",
       "</div>"
      ],
      "text/plain": [
       "  PassengerId HomePlanet  CryoSleep  Cabin  Destination   Age    VIP  \\\n",
       "0     0001_01     Europa      False  B/0/P  TRAPPIST-1e  39.0  False   \n",
       "1     0002_01      Earth      False  F/0/S  TRAPPIST-1e  24.0  False   \n",
       "2     0003_01     Europa      False  A/0/S  TRAPPIST-1e  58.0   True   \n",
       "3     0003_02     Europa      False  A/0/S  TRAPPIST-1e  33.0  False   \n",
       "4     0004_01      Earth      False  F/1/S  TRAPPIST-1e  16.0  False   \n",
       "\n",
       "   RoomService  FoodCourt  ShoppingMall     Spa  VRDeck               Name  \\\n",
       "0          0.0        0.0           0.0     0.0     0.0    Maham Ofracculy   \n",
       "1        109.0        9.0          25.0   549.0    44.0       Juanna Vines   \n",
       "2         43.0     3576.0           0.0  6715.0    49.0      Altark Susent   \n",
       "3          0.0     1283.0         371.0  3329.0   193.0       Solam Susent   \n",
       "4        303.0       70.0         151.0   565.0     2.0  Willy Santantines   \n",
       "\n",
       "   Transported  \n",
       "0        False  \n",
       "1         True  \n",
       "2        False  \n",
       "3        False  \n",
       "4         True  "
      ]
     },
     "execution_count": 26,
     "metadata": {},
     "output_type": "execute_result"
    }
   ],
   "source": [
    "df_train.head()"
   ]
  },
  {
   "cell_type": "code",
   "execution_count": 27,
   "id": "a668476d",
   "metadata": {
    "execution": {
     "iopub.execute_input": "2025-06-21T09:57:34.689481Z",
     "iopub.status.busy": "2025-06-21T09:57:34.689191Z",
     "iopub.status.idle": "2025-06-21T09:57:34.693083Z",
     "shell.execute_reply": "2025-06-21T09:57:34.692212Z"
    },
    "papermill": {
     "duration": 0.013361,
     "end_time": "2025-06-21T09:57:34.694443",
     "exception": false,
     "start_time": "2025-06-21T09:57:34.681082",
     "status": "completed"
    },
    "tags": []
   },
   "outputs": [],
   "source": [
    "## Check Encoding"
   ]
  }
 ],
 "metadata": {
  "kaggle": {
   "accelerator": "none",
   "dataSources": [
    {
     "databundleVersionId": 3220602,
     "sourceId": 34377,
     "sourceType": "competition"
    }
   ],
   "dockerImageVersionId": 31040,
   "isGpuEnabled": false,
   "isInternetEnabled": true,
   "language": "python",
   "sourceType": "notebook"
  },
  "kernelspec": {
   "display_name": "Python 3",
   "language": "python",
   "name": "python3"
  },
  "language_info": {
   "codemirror_mode": {
    "name": "ipython",
    "version": 3
   },
   "file_extension": ".py",
   "mimetype": "text/x-python",
   "name": "python",
   "nbconvert_exporter": "python",
   "pygments_lexer": "ipython3",
   "version": "3.11.11"
  },
  "papermill": {
   "default_parameters": {},
   "duration": 10.546226,
   "end_time": "2025-06-21T09:57:35.322323",
   "environment_variables": {},
   "exception": null,
   "input_path": "__notebook__.ipynb",
   "output_path": "__notebook__.ipynb",
   "parameters": {},
   "start_time": "2025-06-21T09:57:24.776097",
   "version": "2.6.0"
  }
 },
 "nbformat": 4,
 "nbformat_minor": 5
}
